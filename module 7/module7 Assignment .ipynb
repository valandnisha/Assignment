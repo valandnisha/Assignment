{
 "cells": [
  {
   "cell_type": "markdown",
   "id": "b10c4e8f-0fa4-4087-8526-e08a267d6b20",
   "metadata": {},
   "source": [
    "# module 7) DA - Introduction to python"
   ]
  },
  {
   "cell_type": "markdown",
   "id": "bbb0ccb9-ccd7-467e-b089-a9d0f6adfe64",
   "metadata": {},
   "source": [
    "# Assignment"
   ]
  },
  {
   "cell_type": "code",
   "execution_count": null,
   "id": "b787d2d5-d21e-4f0e-a0b5-b111edc3d4f1",
   "metadata": {},
   "outputs": [],
   "source": [
    "1) what are the types of Applications?\n",
    "ans.The types of application is web Application,Mobile aplication,Game Apllication,and data base application."
   ]
  },
  {
   "cell_type": "code",
   "execution_count": null,
   "id": "fb4907c7-9dde-4959-8b16-2fdcf5e9a7bd",
   "metadata": {},
   "outputs": [],
   "source": [
    "2) what is programing?\n",
    "ans.programing meanse telling computer what to do by writing it step by step in special language"
   ]
  },
  {
   "cell_type": "code",
   "execution_count": null,
   "id": "4705b174-851e-4242-9a3a-8441432a76ba",
   "metadata": {},
   "outputs": [],
   "source": [
    "3) what is python?\n",
    "ans.python is high level interpreted object oriented programming language with dynamic typed."
   ]
  },
  {
   "cell_type": "code",
   "execution_count": 39,
   "id": "b1dcd4c8-ee72-4497-9b33-6911d3b4f299",
   "metadata": {},
   "outputs": [
    {
     "name": "stdin",
     "output_type": "stream",
     "text": [
      "Enter a number:  5\n"
     ]
    },
    {
     "name": "stdout",
     "output_type": "stream",
     "text": [
      "number is positive\n"
     ]
    }
   ],
   "source": [
    "#4) write python program to check if a number is positive,negative or zero.\n",
    "#ans\n",
    "number = int(input(\"Enter a number: \"))\n",
    "\n",
    "if number > 0:\n",
    "    print(\"number is positive\")\n",
    "elif number < 0:\n",
    "    print(\"number is negative\")\n",
    "else:\n",
    "    print(\"number is zero\")"
   ]
  },
  {
   "cell_type": "code",
   "execution_count": 46,
   "id": "c0ffa0cd-a3e3-4070-9a55-94fd608715ba",
   "metadata": {},
   "outputs": [
    {
     "data": {
      "text/plain": [
       "5040"
      ]
     },
     "execution_count": 46,
     "metadata": {},
     "output_type": "execute_result"
    }
   ],
   "source": [
    "#5)write a python program to get the factorial number of given numbers\n",
    "#ans.\n",
    "def factorial (n):\n",
    "     if n==0:\n",
    "       return 1\n",
    "     else:\n",
    "         return n*factorial(n-1)\n",
    "        \n",
    "   \n",
    "factorial(7)\n",
    " "
   ]
  },
  {
   "cell_type": "code",
   "execution_count": 93,
   "id": "36bea01b-b77e-4b95-a635-922850f4348a",
   "metadata": {},
   "outputs": [
    {
     "name": "stdout",
     "output_type": "stream",
     "text": [
      "0 1 1 2 3 "
     ]
    }
   ],
   "source": [
    "#6) write python program to get the fibonacci series of given range.\n",
    "#ans.\n",
    "    \n",
    "def fibbonancci(n):\n",
    "    if n<=1:\n",
    "        return n\n",
    "    return fibbonancci(n-1) + fibbonancci(n-2)\n",
    "\n",
    "for i in range(5):\n",
    "     print(fibbonancci(i),end=\" \")\n",
    "    \n",
    "        \n",
    "        "
   ]
  },
  {
   "cell_type": "code",
   "execution_count": null,
   "id": "09d33f84-8367-40db-99d8-14d20a5167b0",
   "metadata": {},
   "outputs": [],
   "source": [
    "7) HOW memory is managed in python?\n",
    "ans.python managed memory automatically.using a combination of refrence counting and garbage collector."
   ]
  },
  {
   "cell_type": "code",
   "execution_count": null,
   "id": "0ed5193d-ee9d-434e-9453-96ea0b4a7f26",
   "metadata": {},
   "outputs": [],
   "source": [
    "8) what is a purpose continuing statement in python?\n",
    "ans.The continue statement in python is skip the current step and move to the next step of the loop."
   ]
  },
  {
   "cell_type": "code",
   "execution_count": 53,
   "id": "87ceda2c-5499-49d3-9a43-5b4f2ea4deda",
   "metadata": {},
   "outputs": [
    {
     "name": "stdout",
     "output_type": "stream",
     "text": [
      "Before swapping:\n",
      "a = 5\n",
      "b = 10\n",
      "After swapping with temp variable:\n",
      "a = 5\n",
      "b = 5\n"
     ]
    }
   ],
   "source": [
    "#9)write the python program that swap two number with temp variable and without temp variable.\n",
    "#ans.\n",
    "a = 5\n",
    "b = 10\n",
    "\n",
    "print(\"Before swapping:\")\n",
    "print(\"a =\", a)\n",
    "print(\"b =\", b)\n",
    "\n",
    " \n",
    "temp = a\n",
    "b = temp\n",
    "a = b\n",
    "\n",
    "\n",
    "print(\"After swapping with temp variable:\")\n",
    "print(\"a =\", a)\n",
    "print(\"b =\", b)\n"
   ]
  },
  {
   "cell_type": "code",
   "execution_count": 54,
   "id": "779459e3-e893-431e-b79f-69fcc66d03a2",
   "metadata": {},
   "outputs": [
    {
     "name": "stdin",
     "output_type": "stream",
     "text": [
      "Enter the number: 4\n"
     ]
    },
    {
     "name": "stdout",
     "output_type": "stream",
     "text": [
      "x number is even\n"
     ]
    }
   ],
   "source": [
    "#10) write a python program to find whether a given number is even or odd,print out an appropriate message to the user.\n",
    "#ans.\n",
    "num = int(input(\"Enter the number:\"))\n",
    "if num%2 ==0:\n",
    "    print(\"x number is even\")\n",
    "else:\n",
    "    print(\"x number is odd\")\n"
   ]
  },
  {
   "cell_type": "code",
   "execution_count": 2,
   "id": "1603aa09-a1dc-4662-bc39-6b6ad50bdc2f",
   "metadata": {},
   "outputs": [
    {
     "name": "stdin",
     "output_type": "stream",
     "text": [
      "Enter a letter:  d\n"
     ]
    },
    {
     "name": "stdout",
     "output_type": "stream",
     "text": [
      "'d' is not a vowel.\n"
     ]
    }
   ],
   "source": [
    "# 11)write a python program to test whether a passed letter is vowel or not.\n",
    "# ans.\n",
    "\n",
    "def is_vowel(letter):\n",
    "    vowels = 'aeiouAEIOU'\n",
    "    return letter in vowels\n",
    "\n",
    "\n",
    "ch = input(\"Enter a letter: \")\n",
    "\n",
    "\n",
    "if len(ch) == 1 and ch.isalpha():\n",
    "    if is_vowel(ch):\n",
    "        print(f\"'{ch}' is a vowel.\")\n",
    "    else:\n",
    "        print(f\"'{ch}' is not a vowel.\")\n",
    "else:\n",
    "    print(\"Please enter a single alphabet letter.\")\n"
   ]
  },
  {
   "cell_type": "code",
   "execution_count": 3,
   "id": "c981b322-8dbd-4496-b297-9c3b4f1ab17a",
   "metadata": {},
   "outputs": [
    {
     "name": "stdin",
     "output_type": "stream",
     "text": [
      "Enter first number:  3\n",
      "Enter second number:  4\n",
      "Enter third number:  5\n"
     ]
    },
    {
     "name": "stdout",
     "output_type": "stream",
     "text": [
      "Result: 12\n"
     ]
    }
   ],
   "source": [
    "# 12) write a pyhon program to sum of three given integers.However,if two values are equal sum will be zero.\n",
    "# ans.\n",
    "def custom_sum(a, b, c):\n",
    "    if a == b or b == c or a == c:\n",
    "        return 0\n",
    "    else:\n",
    "        return a + b + c\n",
    "\n",
    "\n",
    "a = int(input(\"Enter first number: \"))\n",
    "b = int(input(\"Enter second number: \"))\n",
    "c = int(input(\"Enter third number: \"))\n",
    "\n",
    "\n",
    "result = custom_sum(a, b, c)\n",
    "print(\"Result:\", result)\n"
   ]
  },
  {
   "cell_type": "code",
   "execution_count": 9,
   "id": "e625c406-0b4a-4be9-987e-f21fcbfd00a6",
   "metadata": {},
   "outputs": [
    {
     "name": "stdin",
     "output_type": "stream",
     "text": [
      "Enter first number:  2\n",
      "Enter second number:  5\n"
     ]
    },
    {
     "name": "stdout",
     "output_type": "stream",
     "text": [
      "Result: False\n"
     ]
    }
   ],
   "source": [
    "# 13) write a python program that will return true if the two given integer values are equal or their sum or difference is 5.\n",
    "# ans.\n",
    "def check_numbers(a, b):\n",
    "    if a == b or a + b == 5 or abs(a - b) == 5:\n",
    "        return True\n",
    "    else:\n",
    "        return False\n",
    "a = int(input(\"Enter first number: \"))\n",
    "b = int(input(\"Enter second number: \"))\n",
    "\n",
    "print(\"Result:\", check_numbers(a, b))\n"
   ]
  },
  {
   "cell_type": "code",
   "execution_count": 10,
   "id": "4d69fb4e-199f-414b-8587-482bff05d296",
   "metadata": {},
   "outputs": [
    {
     "name": "stdin",
     "output_type": "stream",
     "text": [
      "enter a positive integer: 2\n"
     ]
    },
    {
     "name": "stdout",
     "output_type": "stream",
     "text": [
      "the sum of the first2 positive integers is :3 \n"
     ]
    }
   ],
   "source": [
    "# 14)write a python program to sum of the first n positive intergers.\n",
    "# ans.\n",
    "n= int(input(\"enter a positive integer:\"))\n",
    "total = n*(n+1)//2\n",
    "print(f\"the sum of the first{n} positive integers is :{total} \")"
   ]
  },
  {
   "cell_type": "code",
   "execution_count": 14,
   "id": "6cc94547-2496-4389-a2da-a9e74a3a3b84",
   "metadata": {},
   "outputs": [
    {
     "name": "stdout",
     "output_type": "stream",
     "text": [
      "my name is nisha \n",
      "17\n"
     ]
    }
   ],
   "source": [
    "# 15)write a python program to calculate the length of string.\n",
    "# ans.\n",
    "a = \"my name is nisha \"\n",
    "print(a)\n",
    "print (len(a))\n",
    "\n"
   ]
  },
  {
   "cell_type": "code",
   "execution_count": 55,
   "id": "5c217860-dafe-4fe0-a019-d111d3fafa41",
   "metadata": {},
   "outputs": [
    {
     "name": "stdin",
     "output_type": "stream",
     "text": [
      "Enter a string:  nisha\n"
     ]
    },
    {
     "name": "stdout",
     "output_type": "stream",
     "text": [
      "Character Frequency:\n",
      "'n': 1\n",
      "'i': 1\n",
      "'s': 1\n",
      "'h': 1\n",
      "'a': 1\n"
     ]
    }
   ],
   "source": [
    "#16)write a python program to count the number of characters (character frequency) in string\n",
    "#ans.\n",
    "text = input(\"Enter a string: \")\n",
    "\n",
    "\n",
    "char_freq = {}\n",
    "\n",
    "for char in text:\n",
    "    if char in char_freq:\n",
    "        char_freq[char] += 1\n",
    "    else:\n",
    "        char_freq[char] = 1\n",
    "print(\"Character Frequency:\")\n",
    "for char, freq in char_freq.items():\n",
    "    print(f\"'{char}': {freq}\")\n",
    "\n",
    "                       "
   ]
  },
  {
   "cell_type": "code",
   "execution_count": null,
   "id": "df2fc66c-97d0-4500-98d1-63783d6988a5",
   "metadata": {},
   "outputs": [],
   "source": [
    "17)what are negative index and why are they used?\n",
    "ans.negative index allows you to to access elements of sequence from the end,using negative numbers as indexes."
   ]
  },
  {
   "cell_type": "code",
   "execution_count": 56,
   "id": "3c4bc92b-7791-4576-bf8f-8f2c258c50c5",
   "metadata": {},
   "outputs": [
    {
     "name": "stdout",
     "output_type": "stream",
     "text": [
      "nishanishanisha\n"
     ]
    },
    {
     "data": {
      "text/plain": [
       "3"
      ]
     },
     "execution_count": 56,
     "metadata": {},
     "output_type": "execute_result"
    }
   ],
   "source": [
    "#18)write a python program to count occurrences of a substring in a string.\n",
    "#ans.\n",
    "a = (\"nishanishanisha\")\n",
    "print(a)\n",
    "a.count(\"nisha\")\n",
    "\n"
   ]
  },
  {
   "cell_type": "code",
   "execution_count": 58,
   "id": "aeece865-3d73-43e9-8402-5b959b2d7810",
   "metadata": {},
   "outputs": [
    {
     "name": "stdin",
     "output_type": "stream",
     "text": [
      "Enter a sentence:  nisha\n"
     ]
    },
    {
     "name": "stdout",
     "output_type": "stream",
     "text": [
      "Word Frequency:\n",
      "'nisha': 1\n"
     ]
    }
   ],
   "source": [
    "#19)write a python program to count occurrences of each word in a give sentence.\n",
    "#ans.\n",
    "sentence = input(\"Enter a sentence: \")\n",
    "\n",
    "\n",
    "words = sentence.lower().split()\n",
    "word_count = {}\n",
    "for word in words:\n",
    "    if word in word_count:\n",
    "        word_count[word] += 1\n",
    "    else:\n",
    "        word_count[word] = 1\n",
    "print(\"Word Frequency:\")\n",
    "for word, count in word_count.items():\n",
    "    print(f\"'{word}': {count}\")\n"
   ]
  },
  {
   "cell_type": "code",
   "execution_count": 64,
   "id": "72366bd8-6f65-4eec-9e09-3f97aa85640a",
   "metadata": {},
   "outputs": [
    {
     "name": "stdin",
     "output_type": "stream",
     "text": [
      "Enter two words separated by space:  nisha parekh\n"
     ]
    },
    {
     "name": "stdout",
     "output_type": "stream",
     "text": [
      "Result after swapping: pasha nirekh\n"
     ]
    }
   ],
   "source": [
    "#20)write a python program to get a single from two given string,seprated by a space and swap the frist two characters\n",
    "#of each string.\n",
    "#ans.\n",
    "   \n",
    "str1, str2 = input(\"Enter two words separated by space: \").split()\n",
    "\n",
    "\n",
    "new_str1 = str2[:2] + str1[2:]\n",
    "new_str2 = str1[:2] + str2[2:]\n",
    "\n",
    "\n",
    "result = new_str1 + \" \" + new_str2\n",
    "print(\"Result after swapping:\", result)\n"
   ]
  },
  {
   "cell_type": "code",
   "execution_count": 1,
   "id": "516f664a-33cd-4b2b-9708-a420a9d40a78",
   "metadata": {},
   "outputs": [
    {
     "name": "stdin",
     "output_type": "stream",
     "text": [
      "Enter a word:  nishy\n"
     ]
    },
    {
     "name": "stdout",
     "output_type": "stream",
     "text": [
      "Modified string: nishying\n"
     ]
    }
   ],
   "source": [
    "#21) write a python program to add 'in' at the end of a given strung(length should be at least 3) if the given\n",
    "#string already ends with 'ing' then add 'ly' insted if the string length of the given string is less than 3 leave in unchanged.\n",
    "#ans.\n",
    "def modify_string(word):\n",
    "    if len(word) < 3:\n",
    "        return word\n",
    "    elif word.endswith('ing'):\n",
    "        return word + 'ly'\n",
    "    else:\n",
    "        return word + 'ing'\n",
    "\n",
    "\n",
    "text = input(\"Enter a word: \")\n",
    "\n",
    "\n",
    "result = modify_string(text)\n",
    "print(\"Modified string:\", result)\n"
   ]
  },
  {
   "cell_type": "code",
   "execution_count": 2,
   "id": "6d4b039e-b9bd-4a04-a1db-de12b41a1b00",
   "metadata": {},
   "outputs": [
    {
     "name": "stdin",
     "output_type": "stream",
     "text": [
      "Enter a string:  nisha\n"
     ]
    },
    {
     "name": "stdout",
     "output_type": "stream",
     "text": [
      "Result: nisha\n"
     ]
    }
   ],
   "source": [
    "#22)write a python program function to reverses a string if its length is a multiple of 4.\n",
    "#ans.\n",
    "def reverse_if_multiple_of_4(s):\n",
    "    if len(s) % 4 == 0:\n",
    "        return s[::-1]  \n",
    "    else:\n",
    "        return s\n",
    "\n",
    "\n",
    "text = input(\"Enter a string: \")\n",
    "\n",
    "\n",
    "result = reverse_if_multiple_of_4(text)\n",
    "print(\"Result:\", result)\n"
   ]
  },
  {
   "cell_type": "code",
   "execution_count": 9,
   "id": "c009ce6a-a72a-4753-923c-f13df109c9ab",
   "metadata": {},
   "outputs": [
    {
     "name": "stdout",
     "output_type": "stream",
     "text": [
      "nikh\n",
      "nini\n",
      "\n"
     ]
    }
   ],
   "source": [
    "#23)Write a python program to get string made of the first 2 and the last 2 chars from a given a string.if the\n",
    "#string length is less than 2 ,return instead of the empty string\n",
    "#ans.\n",
    "def string_both_ends(s):\n",
    "    if len(s) < 2:\n",
    "        return ''\n",
    "    first, last = s[:2], s[-2:]\n",
    "    return f\"{first}{last}\"\n",
    "print(string_both_ends('nishaparekh'))  \n",
    "print(string_both_ends('ni'))          \n",
    "print(string_both_ends('a'))  \n"
   ]
  },
  {
   "cell_type": "code",
   "execution_count": 10,
   "id": "a43477b6-31c3-466a-9379-cdc9d5e7b7ed",
   "metadata": {},
   "outputs": [
    {
     "name": "stdout",
     "output_type": "stream",
     "text": [
      "nishare\n"
     ]
    }
   ],
   "source": [
    "#24) write a python program function to insert a string in the middle of a string\n",
    "#ans.\n",
    "a = \"nire\"\n",
    "b = \"sha\"\n",
    "mid = len(a) // 2\n",
    "print(a[:mid] + b + a[mid:])\n"
   ]
  },
  {
   "cell_type": "code",
   "execution_count": 11,
   "id": "7fb62bcf-9498-48f2-a2f1-fd1b73db0edf",
   "metadata": {},
   "outputs": [
    {
     "data": {
      "text/plain": [
       "[9, 8, 7, 3, 2, 1]"
      ]
     },
     "execution_count": 11,
     "metadata": {},
     "output_type": "execute_result"
    }
   ],
   "source": [
    "#25)what is list? how will you reverse list?\n",
    "#ans.list is a collection of items and stored in single variables\n",
    "list = [1,2,3,7,8,9]\n",
    "list\n",
    "list.reverse()\n",
    "list"
   ]
  },
  {
   "cell_type": "code",
   "execution_count": 12,
   "id": "90174df8-a5b6-491c-b7cf-553e0ffc01ff",
   "metadata": {},
   "outputs": [
    {
     "data": {
      "text/plain": [
       "[1, 2, 3, 4, 5, 6, 7]"
      ]
     },
     "execution_count": 12,
     "metadata": {},
     "output_type": "execute_result"
    }
   ],
   "source": [
    "#26)how will you remove last object from a list?\n",
    "#ans.\n",
    "list = [1,2,3,4,5,6,7,10]\n",
    "list\n",
    "list.pop()\n",
    "list"
   ]
  },
  {
   "cell_type": "code",
   "execution_count": 13,
   "id": "435c222a-7a59-41e8-bc0f-497c65049900",
   "metadata": {},
   "outputs": [
    {
     "data": {
      "text/plain": [
       "25"
      ]
     },
     "execution_count": 13,
     "metadata": {},
     "output_type": "execute_result"
    }
   ],
   "source": [
    "#27) suppose list1 is[2,33,222,14 and 25], what is list1[-1]?\n",
    "#ans.\n",
    "list1 = [2,33,222,14,25]\n",
    "list1\n",
    "list1[-1]"
   ]
  },
  {
   "cell_type": "code",
   "execution_count": null,
   "id": "4941ad25-2f05-457d-baf5-af92a2f826cf",
   "metadata": {},
   "outputs": [],
   "source": [
    "28) Differntiate between append() and extend() methods?\n",
    "ans.append() adds one item to the list\n",
    "    extend() adds all item to the list"
   ]
  },
  {
   "cell_type": "code",
   "execution_count": 18,
   "id": "3c032e32-f1bc-4553-9ce1-8e7cd6dd59db",
   "metadata": {},
   "outputs": [
    {
     "name": "stdout",
     "output_type": "stream",
     "text": [
      "10\n",
      "1\n",
      "55\n"
     ]
    }
   ],
   "source": [
    "#29) write a python program function to get the largest number ,smallest num and sum of all from a list.\n",
    "#ans.\n",
    "list1 = [1,2,3,4,5,6,7,8,9,10]\n",
    "list1\n",
    "print(max(list1))\n",
    "print(min(list1))\n",
    "print(sum(list1))"
   ]
  },
  {
   "cell_type": "code",
   "execution_count": 19,
   "id": "1c1dade7-80aa-4934-b51c-201e3b75d6df",
   "metadata": {},
   "outputs": [
    {
     "name": "stdout",
     "output_type": "stream",
     "text": [
      "False\n"
     ]
    }
   ],
   "source": [
    "#30) how will you compare two list?\n",
    "#ans.\n",
    "list1 = [1,2,3,4,5]\n",
    "list2 = [5,4,3,2,1]\n",
    "print (list1==list2)"
   ]
  },
  {
   "cell_type": "code",
   "execution_count": 20,
   "id": "d185a1cf-db02-4ab2-bc55-177a2bf36f60",
   "metadata": {},
   "outputs": [
    {
     "name": "stdout",
     "output_type": "stream",
     "text": [
      "3\n"
     ]
    }
   ],
   "source": [
    "#31)write a python program to count the number of string where the string length is 2 or more and the first\n",
    "#and last character are same from a give list of string?\n",
    "#ans.\n",
    "words= ['nin','nin','npnp','tt']\n",
    "count = 0\n",
    "\n",
    "for w in words:\n",
    "    if len(a) >=2 and w[0] ==w[-1]:\n",
    "        count += 1\n",
    "\n",
    "print(count)"
   ]
  },
  {
   "cell_type": "code",
   "execution_count": 40,
   "id": "5ce491f3-8c98-401d-a86c-fddcece0acb2",
   "metadata": {},
   "outputs": [
    {
     "name": "stdout",
     "output_type": "stream",
     "text": [
      "[1, 2, 3, 4, 5]\n"
     ]
    }
   ],
   "source": [
    "#32)write a python program to remove duplicate from a list\n",
    "#ans.\n",
    "del list\n",
    "my_list = [1, 2, 2, 3, 4, 4, 5]\n",
    "unique_list = list(set(my_list))\n",
    "print(unique_list)\n",
    "\n",
    "\n"
   ]
  },
  {
   "cell_type": "code",
   "execution_count": 41,
   "id": "fafa023d-595e-4ba0-b7ec-1a9c6c5006cd",
   "metadata": {},
   "outputs": [
    {
     "name": "stdout",
     "output_type": "stream",
     "text": [
      "The list is empty\n"
     ]
    }
   ],
   "source": [
    "#33) write a python program to check a list is empty or not.\n",
    "#ans.\n",
    "a = []\n",
    "if not a:\n",
    "    print(\"The list is empty\")\n",
    "\n",
    "else:\n",
    "    print(\"The list is not empty\")"
   ]
  },
  {
   "cell_type": "code",
   "execution_count": 42,
   "id": "99bb2b79-373f-49a7-bfe0-96aaa478a9c3",
   "metadata": {},
   "outputs": [
    {
     "name": "stdout",
     "output_type": "stream",
     "text": [
      "True\n"
     ]
    }
   ],
   "source": [
    "#34)write a python function that takes two list and returns true if they have at least one common number\n",
    "#ans.\n",
    "def have_common_element(list1, list2):\n",
    "    for num in list1:\n",
    "        if num in list2:\n",
    "            return True\n",
    "    return False\n",
    "list1 = [1, 2, 3, 4]\n",
    "list2 = [5, 6, 3, 8]\n",
    "\n",
    "result = have_common_element(list1, list2)\n",
    "print( result)"
   ]
  },
  {
   "cell_type": "code",
   "execution_count": 43,
   "id": "2d09d8df-4279-4056-a7ea-a4df951a831b",
   "metadata": {},
   "outputs": [
    {
     "name": "stdout",
     "output_type": "stream",
     "text": [
      "[1, 4, 9, 16, 25, 36, 49, 64, 81, 100, 121, 144, 169, 196, 225, 256, 289, 324, 361, 400, 441, 484, 529, 576, 625, 676, 729, 784, 841]\n",
      "[1, 4, 9, 16, 25]\n",
      "[625, 676, 729, 784, 841]\n"
     ]
    }
   ],
   "source": [
    "#35)write a python program to generate and print a list of first and last 5 elements where the values are square\n",
    "#of numbers between 1 and 30.\n",
    "l1 = []\n",
    "for i in range(1,30):\n",
    "    l1.append(i**2)\n",
    "print(l1)\n",
    "print(l1[:5])\n",
    "print(l1[-5:])"
   ]
  },
  {
   "cell_type": "code",
   "execution_count": 45,
   "id": "cd92a5da-02f6-4596-b507-2b2e3f270517",
   "metadata": {},
   "outputs": [
    {
     "name": "stdout",
     "output_type": "stream",
     "text": [
      "[1, 2, 2, 3, 4, 4, 5]\n",
      "[1, 2, 3, 4, 5]\n"
     ]
    }
   ],
   "source": [
    "#36)write a python function that takes a list and returns a new list with unique elements of the first list\n",
    "#ans.\n",
    "def get_unique_elements(lst):\n",
    "    unique_list = []\n",
    "    for item in lst:\n",
    "        if item not in unique_list:\n",
    "            unique_list.append(item)\n",
    "    return unique_list\n",
    "original_list = [1, 2, 2, 3, 4, 4, 5]\n",
    "result = get_unique_elements(original_list)\n",
    "print( original_list)\n",
    "print( result)"
   ]
  },
  {
   "cell_type": "code",
   "execution_count": 48,
   "id": "5e7ea1ed-11d3-42bd-9011-00ac93177a26",
   "metadata": {},
   "outputs": [
    {
     "name": "stdout",
     "output_type": "stream",
     "text": [
      "Hello\n"
     ]
    }
   ],
   "source": [
    "#37)write a python program to convert a list of characters into a string\n",
    "#ans.\n",
    "a = ['H', 'e', 'l', 'l', 'o']\n",
    "s = ''.join(a)\n",
    "print(s)  \n"
   ]
  },
  {
   "cell_type": "code",
   "execution_count": 49,
   "id": "b4fd924f-c413-4834-9205-2432aabb07ec",
   "metadata": {},
   "outputs": [
    {
     "name": "stdin",
     "output_type": "stream",
     "text": [
      "Enter the number:  10\n"
     ]
    },
    {
     "name": "stdout",
     "output_type": "stream",
     "text": [
      "4\n"
     ]
    }
   ],
   "source": [
    "#38)write a python program to select an item randomly from a list\n",
    "#ans.\n",
    "import random\n",
    "\n",
    "a = int(input(\"Enter the number: \"))\n",
    "b = random.randint(1, a) \n",
    "print(b)"
   ]
  },
  {
   "cell_type": "code",
   "execution_count": 50,
   "id": "553b22d9-54cc-452d-b7d6-b3f0e30232aa",
   "metadata": {},
   "outputs": [
    {
     "name": "stdout",
     "output_type": "stream",
     "text": [
      "Second smallest is: 3\n"
     ]
    }
   ],
   "source": [
    "#39)write a python program to find the second smallest number in a list\n",
    "#ans.\n",
    "a = [12,11,10,5,7,3,2]\n",
    "a.sort()\n",
    "a\n",
    "print(\"Second smallest is:\", a[1])"
   ]
  },
  {
   "cell_type": "code",
   "execution_count": 51,
   "id": "735f53bf-1918-44a0-bcbb-5c41a6837cc1",
   "metadata": {},
   "outputs": [
    {
     "name": "stdout",
     "output_type": "stream",
     "text": [
      "{1, 2, 3, 4, 5, 6}\n"
     ]
    }
   ],
   "source": [
    "#40) write a python program to get unique values from a list\n",
    "#ans.\n",
    "my_set = {1,2,3,4,4,5,6}\n",
    "print(my_set)"
   ]
  },
  {
   "cell_type": "code",
   "execution_count": 54,
   "id": "56d1adf2-3c84-4091-a573-8445e3cb8084",
   "metadata": {},
   "outputs": [
    {
     "name": "stdout",
     "output_type": "stream",
     "text": [
      "True\n"
     ]
    }
   ],
   "source": [
    "#41) write a python program to check whether a list contains a sub list\n",
    "#ans.\n",
    "a = [1,2,3,4,5,6,7,8]\n",
    "b = [3,4,5]\n",
    "a_str = ','.join(map(str, a))\n",
    "b_str = ','.join(map(str, b))\n",
    "print(b_str in a_str) \n"
   ]
  },
  {
   "cell_type": "code",
   "execution_count": 55,
   "id": "59e69f56-7146-495b-a56a-fc8569a6dac4",
   "metadata": {},
   "outputs": [
    {
     "name": "stdout",
     "output_type": "stream",
     "text": [
      "apple\n",
      "banana\n",
      "cherry\n"
     ]
    }
   ],
   "source": [
    "#42) write a python program to split a list into different variables.\n",
    "#ans.\n",
    "fruits = [\"apple\", \"banana\",\"cherry\"]\n",
    "\n",
    "for f in fruits:\n",
    "    print(f)"
   ]
  },
  {
   "cell_type": "code",
   "execution_count": null,
   "id": "57521925-c709-4bd8-9792-8dc8c2e5a79d",
   "metadata": {},
   "outputs": [],
   "source": [
    "43)what is a tuple? different between list and tuple\n",
    "ans. Tupleis orderd,immutable sequence of items. Allow duplicate items\n",
    "-different between list and tuple\n",
    "list =  List is orderde, mutable, sequence of items,Allow duplicate items,list stored in Square brackets []\n",
    "tuple = Tupleis orderd,immutable sequence of items. Allow duplicate items ,tuple stored in round brackets ()\n"
   ]
  },
  {
   "cell_type": "code",
   "execution_count": 56,
   "id": "096ee143-b15e-4f65-b0c2-f660b3996fb4",
   "metadata": {},
   "outputs": [
    {
     "data": {
      "text/plain": [
       "(1, 2, 3, 4, 5, 6.5, 7.8, 444, True, False, 'Hello')"
      ]
     },
     "execution_count": 56,
     "metadata": {},
     "output_type": "execute_result"
    }
   ],
   "source": [
    "#44) write a python program to create tuple with different data types.\n",
    "#ans.\n",
    "my_tuple = (1,2,3,4,5,6.5,7.8,444,True,False,\"Hello\")\n",
    "my_tuple"
   ]
  },
  {
   "cell_type": "code",
   "execution_count": 60,
   "id": "98950e27-1462-4f21-806f-bcab4320e5ab",
   "metadata": {},
   "outputs": [
    {
     "name": "stdout",
     "output_type": "stream",
     "text": [
      "[1, 3, 5]\n",
      "[2, 4, 6]\n"
     ]
    }
   ],
   "source": [
    "#45) write a python program to unzip a list of tuples into individual lists\n",
    "#ans.\n",
    "num = [(1, 2), (3, 4), (5, 6)]\n",
    "list1, list2 = map(list, zip(*num))\n",
    "\n",
    "print(list1)  \n",
    "print(list2)  \n",
    "\n",
    "\n"
   ]
  },
  {
   "cell_type": "code",
   "execution_count": 61,
   "id": "34d736c7-bfa4-4275-93ae-04e7150a53b2",
   "metadata": {},
   "outputs": [
    {
     "name": "stdout",
     "output_type": "stream",
     "text": [
      "{'x': 1, 'y': 2, 'z': 3}\n"
     ]
    }
   ],
   "source": [
    "#46)write a python program to covert list of tuples into a dictionary.\n",
    "#ans.\n",
    "a = [(\"x\",1),(\"y\",2),(\"z\",3)]\n",
    "result = dict(a)\n",
    "print(result)"
   ]
  },
  {
   "cell_type": "code",
   "execution_count": 62,
   "id": "01f7fd7e-7015-4790-87a7-b12fcbc7bf08",
   "metadata": {},
   "outputs": [
    {
     "name": "stdout",
     "output_type": "stream",
     "text": [
      "{'a': 1, 'b': 2, 'c': 3}\n"
     ]
    }
   ],
   "source": [
    "#47)how will you create dictionary using tuples in python.\n",
    "#ans\n",
    "num = [(\"a\", 1), (\"b\", 2), (\"c\", 3)]\n",
    "d = dict(num)\n",
    "print(d)  # → {'a': 1, 'b': 2, 'c': 3}\n"
   ]
  },
  {
   "cell_type": "code",
   "execution_count": 63,
   "id": "b4e1edc6-07c4-4715-a51c-175e557898dc",
   "metadata": {},
   "outputs": [
    {
     "name": "stdout",
     "output_type": "stream",
     "text": [
      "Ascending: {'Python': 75, 'sci': 80, 'Math': 90, 'eng': 95}\n",
      "Descending: {'eng': 95, 'Math': 90, 'sci': 80, 'Python': 75}\n"
     ]
    }
   ],
   "source": [
    "#48)write a python scrip to sort(Ascending and decending) a dictionary by values.\n",
    "#ans. \n",
    "data = {'Math': 90, 'sci': 80, 'eng': 95, 'Python': 75}\n",
    "\n",
    "asc = dict(sorted(data.items(), key=lambda item: item[1]))\n",
    "print(\"Ascending:\", asc)\n",
    "\n",
    "desc = dict(sorted(data.items(), key=lambda item: item[1], reverse=True))\n",
    "print(\"Descending:\", desc)\n",
    "\n",
    "\n"
   ]
  },
  {
   "cell_type": "code",
   "execution_count": 64,
   "id": "ade3c574-c450-4709-ae57-39f43b6b6289",
   "metadata": {},
   "outputs": [
    {
     "data": {
      "text/plain": [
       "25"
      ]
     },
     "execution_count": 64,
     "metadata": {},
     "output_type": "execute_result"
    }
   ],
   "source": [
    "#49) write a python program concatenate following dictionaries to create a new one\n",
    "#ans.\n",
    "my_dict = {'name': 'Alice','city': 'new york', 'age': 25}\n",
    "my_dict['age']"
   ]
  },
  {
   "cell_type": "code",
   "execution_count": 94,
   "id": "ca1e8946-e0a7-4e62-9008-02a202f9768a",
   "metadata": {},
   "outputs": [
    {
     "name": "stdout",
     "output_type": "stream",
     "text": [
      "Exists!\n"
     ]
    }
   ],
   "source": [
    "#50)write a python script to check if a given key already exists in a dictionary.\n",
    "#ans.my_dict = {'name': 'Alice','city': 'new york', 'age': 25}\n",
    "if my_dict.get('city') is not None:\n",
    "    print(\"Exists!\")\n",
    "else:\n",
    "    print(\"Does not exist.\")\n"
   ]
  },
  {
   "cell_type": "code",
   "execution_count": 65,
   "id": "268dbffe-5246-4631-81a0-77b8126f45e5",
   "metadata": {},
   "outputs": [
    {
     "name": "stdout",
     "output_type": "stream",
     "text": [
      "name:nisha\n",
      "city:new york\n",
      "age:21\n",
      "grade:A\n"
     ]
    }
   ],
   "source": [
    "#51) HOW do you traverse through a dictionary object in python?\n",
    "#ans.\n",
    "my_dict = {'name':'nisha','city':'new york','age':21,'grade': 'A'}\n",
    "for key,value in my_dict.items():\n",
    "    print(f\"{key}:{value}\")"
   ]
  },
  {
   "cell_type": "code",
   "execution_count": 67,
   "id": "81253195-3631-4ffb-9681-1406fc86fafa",
   "metadata": {},
   "outputs": [
    {
     "name": "stdout",
     "output_type": "stream",
     "text": [
      "key  is present\n"
     ]
    }
   ],
   "source": [
    "#52)HOW do you check the presence of a key in A dictionary?\n",
    "#ans.\n",
    "my_dict = {'name':'nisha','city':'new york','age':21,'grade': 'A'}\n",
    "if 'name' in my_dict:\n",
    "    print(\"key  is present\")"
   ]
  },
  {
   "cell_type": "code",
   "execution_count": 68,
   "id": "a5b6226b-f8d3-4c4e-aa6f-3040fbacc774",
   "metadata": {},
   "outputs": [
    {
     "name": "stdout",
     "output_type": "stream",
     "text": [
      "{1: 1, 2: 2, 3: 3, 4: 4, 5: 5, 6: 6, 7: 7, 8: 8, 9: 9, 10: 10, 11: 11, 12: 12, 13: 13, 14: 14, 15: 15}\n"
     ]
    }
   ],
   "source": [
    "#53) write a python scrip to print a dictionary where the keys are numbers between 1 and 15.\n",
    "#ans.\n",
    "my_dict = {}\n",
    "for i in range(1,16):\n",
    "    my_dict[i]=i\n",
    "\n",
    "print(my_dict)"
   ]
  },
  {
   "cell_type": "code",
   "execution_count": 84,
   "id": "adab56dd-6dfa-4b13-af0f-e7d6a5a774f5",
   "metadata": {},
   "outputs": [
    {
     "name": "stdout",
     "output_type": "stream",
     "text": [
      " All keys exist\n"
     ]
    }
   ],
   "source": [
    "#54) write a python program to check multiple  key exiasts in a dictionary\n",
    "#ans.\n",
    "my_dict = {'name': 'Alice', 'city': 'new york', 'age': 25}\n",
    "keys_set = {'name', 'city'}\n",
    "if keys_set <= my_dict.keys():\n",
    "    print(\" All keys exist\")\n",
    "else:\n",
    "    print(\"Some keys missing:\", keys_set - my_dict.keys())\n"
   ]
  },
  {
   "cell_type": "code",
   "execution_count": 75,
   "id": "a5def90a-dd8c-4626-86b8-2b3f2d9572e7",
   "metadata": {},
   "outputs": [
    {
     "name": "stdout",
     "output_type": "stream",
     "text": [
      "{'name': 'Bob', 'grade': 'A'}\n"
     ]
    }
   ],
   "source": [
    "#55)write a python scrip to merge two python dictionaries\n",
    "#ans.\n",
    "student1 = {'name': 'jane', 'grade': 'B'}\n",
    "student2 = {'name': 'Bob', 'grade': 'A'}\n",
    "\n",
    "student1.update(student2)\n",
    "print(student1)"
   ]
  },
  {
   "cell_type": "code",
   "execution_count": 108,
   "id": "af60f69a-4739-4abf-aa3c-93698fce8081",
   "metadata": {},
   "outputs": [
    {
     "name": "stdout",
     "output_type": "stream",
     "text": [
      "{'a': 400, 'b': 400, 'c': 300, 'd': 400}\n"
     ]
    }
   ],
   "source": [
    "#56) write a python program to map two list into a dicionary\n",
    "#sample output counter ({'a': 400,'b':400,'d':400,'c':300})\n",
    "#ans\n",
    "l1 = ['a','b','c','d']\n",
    "l2 = [400,400,300,400]\n",
    "\n",
    "result = dict(zip(l1,l2))\n",
    "print(result)"
   ]
  },
  {
   "cell_type": "code",
   "execution_count": 107,
   "id": "1becb31a-8b8c-45f6-8b68-7aa69f75cf32",
   "metadata": {},
   "outputs": [
    {
     "name": "stdout",
     "output_type": "stream",
     "text": [
      "Top 3 values\n",
      "[('z', 15), ('y', 10), ('w', 8)]\n"
     ]
    }
   ],
   "source": [
    "#57)write a python program to find the highest 3 values in dictionary.\n",
    "#ans.\n",
    "data = {'w':8,'x':6,'y':10,'z':15}\n",
    "top = sorted(data.items(), key=lambda x: x[1],\n",
    "reverse=True)[:3]\n",
    "print(\"Top 3 values\")\n",
    "print(top)\n",
    "\n"
   ]
  },
  {
   "cell_type": "code",
   "execution_count": 91,
   "id": "a370a7bb-946c-4281-b2c1-4e2458508b21",
   "metadata": {},
   "outputs": [
    {
     "name": "stdout",
     "output_type": "stream",
     "text": [
      "Counter({'item1': 1150, 'item2': 300})\n"
     ]
    }
   ],
   "source": [
    "#58)write python program to combine values in python list of dictionaries\n",
    "#sample data [{'item':'item1','amount':400},{'item':'item2','amount':300},o{'item':'item1','amount':750}]\n",
    "#ans.\n",
    "from collections import Counter\n",
    "def combine_items(item_list):\n",
    "    result = Counter()\n",
    "    for entry in item_list:\n",
    "        result[entry['item']] += entry['amount']\n",
    "    return result\n",
    "item_list = [\n",
    "    {'item': 'item1', 'amount': 400},\n",
    "    {'item': 'item2', 'amount': 300},\n",
    "    {'item': 'item1', 'amount': 750}\n",
    "]\n",
    "combined = combine_items(item_list)\n",
    "print(combined)\n",
    "\n"
   ]
  },
  {
   "cell_type": "code",
   "execution_count": 88,
   "id": "d80aa707-da90-47ee-a03a-08dbaff2a425",
   "metadata": {},
   "outputs": [
    {
     "name": "stdin",
     "output_type": "stream",
     "text": [
      "Enter the string: nisha parekh\n"
     ]
    },
    {
     "name": "stdout",
     "output_type": "stream",
     "text": [
      "letter count dictionary\n",
      "{'n': 1, 'i': 1, 's': 1, 'h': 2, 'a': 2, 'p': 1, 'r': 1, 'e': 1, 'k': 1}\n"
     ]
    }
   ],
   "source": [
    "#59) write a python program to create a dictionary from a string \n",
    "#note: track the count of the letters from the string\n",
    "#ans.\n",
    "text= input(\"Enter the string:\")\n",
    "letter_count = {}\n",
    "for char in text:\n",
    "    if char.isalpha():\n",
    "        if char in letter_count:\n",
    "            letter_count[char]+=1\n",
    "        else:\n",
    "            letter_count[char]=1\n",
    "\n",
    "\n",
    "print(\"letter count dictionary\")\n",
    "print(letter_count)\n",
    "            "
   ]
  },
  {
   "cell_type": "code",
   "execution_count": 77,
   "id": "a1f7e7fb-21c5-408a-9c8d-8cb51c3e6517",
   "metadata": {},
   "outputs": [
    {
     "name": "stdout",
     "output_type": "stream",
     "text": [
      "{'w': 1, '3': 1, 'r': 2, 'e': 2, 's': 1, 'o': 1, 'u': 1, 'c': 1}\n"
     ]
    }
   ],
   "source": [
    "#60) sample string\n",
    "#'w3resource' Excepted output:\n",
    "#{'3':1,'s':1,'r':2,'u':1,'w':1,'c':1,'e:'2,'o':1}\n",
    "def char_frequency(s: str) -> dict:\n",
    "    freq = {}\n",
    "    for c in s:\n",
    "        freq[c] = freq.get(c, 0) + 1\n",
    "    return freq\n",
    "\n",
    "\n",
    "s = 'w3resource'\n",
    "print(char_frequency(s))\n",
    "\n"
   ]
  },
  {
   "cell_type": "code",
   "execution_count": 78,
   "id": "bf271784-e6e7-4588-ac76-70c95f3bba13",
   "metadata": {},
   "outputs": [
    {
     "data": {
      "text/plain": [
       "120"
      ]
     },
     "execution_count": 78,
     "metadata": {},
     "output_type": "execute_result"
    }
   ],
   "source": [
    "#61) write a python function to calculate the factorial of a number(a nonenegative integer)\n",
    "#ans.\n",
    "def factorial(n):\n",
    "    if n==0:\n",
    "        return 1\n",
    "    else:\n",
    "        return n * factorial(n-1)\n",
    "        \n",
    "factorial(5)\n"
   ]
  },
  {
   "cell_type": "code",
   "execution_count": 72,
   "id": "91688bdc-2a3c-4ddd-acc7-ed5c8d2ab0f4",
   "metadata": {},
   "outputs": [
    {
     "name": "stdout",
     "output_type": "stream",
     "text": [
      "True\n",
      "False\n",
      "False\n",
      "True\n"
     ]
    }
   ],
   "source": [
    "#62)write a python program function to check whether a number is given range\n",
    "#ans.\n",
    "def in_range(n: int, start: int, end: int) -> bool:\n",
    "\n",
    "    if start <= end:\n",
    "        return start <= n <= end\n",
    "    else:\n",
    "        return end <= n <= start\n",
    "\n",
    "\n",
    "print(in_range(5, 3, 8))    \n",
    "print(in_range(7, 3, 6))   \n",
    "print(in_range(24, 8, 3))    \n",
    "print(in_range(7, 8, 3))   \n"
   ]
  },
  {
   "cell_type": "code",
   "execution_count": 70,
   "id": "2c6052b9-5641-4276-8a0f-37a4d7f9d84b",
   "metadata": {},
   "outputs": [
    {
     "name": "stdout",
     "output_type": "stream",
     "text": [
      "6 → Perfect\n",
      "10 → Not perfect\n",
      "28 → Perfect\n",
      "49 → Not perfect\n",
      "8128 → Perfect\n"
     ]
    }
   ],
   "source": [
    "#63)write a python program function to check whether a number is perfect or not.\n",
    "#ans.\n",
    "def is_perfect(n: int) -> bool:\n",
    "    return sum(i for i in range(1, n) if n % i == 0) == n\n",
    "\n",
    "for num in [6, 10, 28, 49, 8128]:\n",
    "    print(f\"{num} → {'Perfect' if is_perfect(num) else 'Not perfect'}\")\n"
   ]
  },
  {
   "cell_type": "code",
   "execution_count": 68,
   "id": "d99941f6-70d6-452c-9085-f745790a9540",
   "metadata": {},
   "outputs": [
    {
     "name": "stdout",
     "output_type": "stream",
     "text": [
      "True\n",
      "False\n"
     ]
    }
   ],
   "source": [
    "#64)write a python program function to check whether a passed string is pailndrome or not\n",
    "#ans.\n",
    "def is_palindrome(s: str) -> bool:\n",
    "    s = s.lower()\n",
    "    return s == s[::-1]\n",
    "\n",
    "\n",
    "print(is_palindrome(\"Madam\"))  \n",
    "print(is_palindrome(\"nisha\"))  \n"
   ]
  },
  {
   "cell_type": "code",
   "execution_count": null,
   "id": "ac5fd595-6201-4342-9d5a-da5045c1a170",
   "metadata": {},
   "outputs": [],
   "source": [
    "65) HOW many basic types of functions are available in python?\n",
    "ans.There are many types of function like build in function,lambda function,and Recursive function."
   ]
  },
  {
   "cell_type": "code",
   "execution_count": null,
   "id": "b7710771-43cd-4b16-8297-f09885e42ef2",
   "metadata": {},
   "outputs": [],
   "source": [
    "66)How can you pick a randome item from a list or tuple?\n",
    "ans.pick a randome items in list or tuple in used randome.choice in bulid in function"
   ]
  },
  {
   "cell_type": "code",
   "execution_count": null,
   "id": "c0d18a36-3d62-4100-bb21-123750251be9",
   "metadata": {},
   "outputs": [],
   "source": [
    "67)HOW can you pick a random item from a range?\n",
    "ans.pick a randome item from a range in used randome.choice(range(start,end)) in select randome numbers in range."
   ]
  },
  {
   "cell_type": "code",
   "execution_count": null,
   "id": "ea870dd9-6855-47dd-b0e4-3766f41a8dc6",
   "metadata": {},
   "outputs": [],
   "source": [
    "68) HOW CAN you get randome number in python\n",
    "ans. randome number in python use the randome module to get randome numbers or choose randome items from a list"
   ]
  },
  {
   "cell_type": "code",
   "execution_count": null,
   "id": "75b344c2-a0e0-4f6f-a5d4-4f0677dfa2d2",
   "metadata": {},
   "outputs": [],
   "source": [
    "69)HOW will you set the string value in generating randome numbers?\n",
    "ans.set the string value in use randome.choice(string) to get randome value from a string in python."
   ]
  },
  {
   "cell_type": "code",
   "execution_count": null,
   "id": "0d21660b-ab62-48b5-8244-2abfd1ace161",
   "metadata": {},
   "outputs": [],
   "source": [
    "70) HOW will you randomize the items of a list in place?\n",
    "ans.randomize the items of list in place in use randome.shuffle(list) module"
   ]
  },
  {
   "cell_type": "code",
   "execution_count": null,
   "id": "6ffb25ac-2d10-41ef-a9f6-0008f346ec83",
   "metadata": {},
   "outputs": [],
   "source": [
    "71)what is file function in python? what are keywords to create and write file.\n",
    "ans.file function in python means reading from writing to,creating and deleting files(text or binary).\n",
    "it's used when you need to store data  permanetly or read data from external files in your program.\n",
    "keyword to create 'w'-write,'a'-append,'r'-read,'x'-create new file,'t'-text mode."
   ]
  },
  {
   "cell_type": "code",
   "execution_count": null,
   "id": "33a43091-7f1a-4fb1-807e-b67a0574dd6d",
   "metadata": {},
   "outputs": [],
   "source": [
    "72)write a python program to read an entire text file?\n",
    "ans."
   ]
  },
  {
   "cell_type": "code",
   "execution_count": 35,
   "id": "a62a4d26-f892-44b1-a127-20024da77bc2",
   "metadata": {},
   "outputs": [
    {
     "name": "stdout",
     "output_type": "stream",
     "text": [
      "my name is nisha\n",
      "I am from ahmedabad \n"
     ]
    }
   ],
   "source": [
    "file = open('myfile.txt',\"r\")\n",
    "file\n",
    "content = file.read()\n",
    "print(content)"
   ]
  },
  {
   "cell_type": "code",
   "execution_count": null,
   "id": "7e3d1a38-e613-4385-b540-e817a8c77e99",
   "metadata": {},
   "outputs": [],
   "source": [
    "73)write a python program to append text to a file and display the text.\n",
    "ans."
   ]
  },
  {
   "cell_type": "code",
   "execution_count": 5,
   "id": "fa860f68-ad9a-48ec-8789-507376ab1c4c",
   "metadata": {},
   "outputs": [
    {
     "name": "stdout",
     "output_type": "stream",
     "text": [
      "my name is nisha\n",
      "I am from ahmedabad \n",
      "This new line is added\n"
     ]
    }
   ],
   "source": [
    "file = open(\"myfile.txt\",\"a\")\n",
    "file.write(\"\\nThis new line is added\")\n",
    "file.close()\n",
    "file = open('myfile.txt',\"r\")\n",
    "file\n",
    "content = file.read()\n",
    "print(content)\n",
    "file.close()\n"
   ]
  },
  {
   "cell_type": "code",
   "execution_count": null,
   "id": "de9345c6-bec5-443c-ac4a-8a08a173daf5",
   "metadata": {},
   "outputs": [],
   "source": [
    "\n",
    "74)write a python program to read first n lines of a file.\n",
    "ans."
   ]
  },
  {
   "cell_type": "code",
   "execution_count": 8,
   "id": "bd568a75-66cb-49cb-819e-07df7eb29519",
   "metadata": {},
   "outputs": [
    {
     "name": "stdin",
     "output_type": "stream",
     "text": [
      "Enter the numbers: 1\n"
     ]
    },
    {
     "name": "stdout",
     "output_type": "stream",
     "text": [
      "my name is nisha\n"
     ]
    }
   ],
   "source": [
    "n = int(input(\"Enter the numbers:\"))\n",
    "with open(\"myfile.txt\",\"r\") as file:\n",
    "    lines= file.readlines()\n",
    "    for line in lines[:n]:\n",
    "        print(line .strip())"
   ]
  },
  {
   "cell_type": "code",
   "execution_count": null,
   "id": "b9ebec84-a78e-4a57-8bb3-78ae00e5e55c",
   "metadata": {},
   "outputs": [],
   "source": [
    "#75)write a python program to read last n lines of a file.\n",
    "#ans."
   ]
  },
  {
   "cell_type": "code",
   "execution_count": 10,
   "id": "08309032-83bb-4089-86d9-3429f21fb262",
   "metadata": {},
   "outputs": [
    {
     "name": "stdin",
     "output_type": "stream",
     "text": [
      "Enter the numbers: 1\n"
     ]
    },
    {
     "name": "stdout",
     "output_type": "stream",
     "text": [
      "This new line is added\n"
     ]
    }
   ],
   "source": [
    "t = int(input(\"Enter the numbers:\"))\n",
    "with open(\"myfile.txt\",\"r\") as file:\n",
    "    lines= file.readlines()\n",
    "    for line in lines[-t:]:\n",
    "        print(line .strip())"
   ]
  },
  {
   "cell_type": "code",
   "execution_count": null,
   "id": "d7457734-a022-49ec-84a0-9d4d14fa8e07",
   "metadata": {},
   "outputs": [],
   "source": [
    "76)write a python program to read a file line by line and store into a list\n",
    "ans."
   ]
  },
  {
   "cell_type": "code",
   "execution_count": 12,
   "id": "ea2b73bb-6d13-418f-b22f-92db7e309699",
   "metadata": {},
   "outputs": [
    {
     "name": "stdout",
     "output_type": "stream",
     "text": [
      "['my name is nisha\\n', 'I am from ahmedabad \\n', 'This new line is added']\n"
     ]
    }
   ],
   "source": [
    "with open(\"myfile.txt\",\"r\") as file:\n",
    "    content = file.readlines()\n",
    "    print(content)\n",
    "\n"
   ]
  },
  {
   "cell_type": "code",
   "execution_count": null,
   "id": "04a5924c-e907-4181-b0fa-c95286abe756",
   "metadata": {},
   "outputs": [],
   "source": [
    "77)write a python program to read a file line by line store in into a variable.\n",
    "ans.\n"
   ]
  },
  {
   "cell_type": "code",
   "execution_count": 13,
   "id": "6e49b8b6-f81d-475e-bded-0a6685b06daf",
   "metadata": {},
   "outputs": [
    {
     "name": "stdout",
     "output_type": "stream",
     "text": [
      "my name is nisha\n",
      "I am from ahmedabad \n",
      "This new line is added\n"
     ]
    }
   ],
   "source": [
    "with open(\"myfile.txt\",\"r\")as file:\n",
    "    content = file.read()\n",
    "    print(content)"
   ]
  },
  {
   "cell_type": "code",
   "execution_count": 66,
   "id": "00143075-6795-4e96-b145-9e9986de43b5",
   "metadata": {},
   "outputs": [
    {
     "name": "stdout",
     "output_type": "stream",
     "text": [
      "Longest word: programming\n"
     ]
    }
   ],
   "source": [
    "#78)write a python program to find the longest words.\n",
    "#ans.\n",
    "def find_longest_word(sentence):\n",
    "    words = sentence.split()\n",
    "    if not words:\n",
    "        return \"\"\n",
    "    return max(words, key=len)\n",
    "sentence = \"I am learning Python programming language\"\n",
    "longest = find_longest_word(sentence)\n",
    "print(\"Longest word:\", longest)\n"
   ]
  },
  {
   "cell_type": "code",
   "execution_count": 65,
   "id": "1589572f-faf3-4921-b1ad-dc810d314b66",
   "metadata": {},
   "outputs": [
    {
     "name": "stdout",
     "output_type": "stream",
     "text": [
      "number of lines: 4\n"
     ]
    }
   ],
   "source": [
    "#79)write a python program to count the number of lines in a text file\n",
    "#ans.\n",
    "with open(\"myfile.txt\",\"r\")as file:\n",
    "    print(\"number of lines:\",len(file.readlines()))"
   ]
  },
  {
   "cell_type": "code",
   "execution_count": null,
   "id": "2d268f1f-1384-40f3-a89c-1edd010384a7",
   "metadata": {},
   "outputs": [],
   "source": [
    "#80)write a python program to count the frequency of words in a file.\n",
    "#ans\n",
    "\n",
    "file = open(\"sample.txt\", \"r\")\n",
    "\n",
    "words = file.read().split()\n",
    "\n",
    "word_count = {}\n",
    "\n",
    "for word in words:\n",
    "    if word in word_count:\n",
    "        word_count[word] += 1\n",
    "    else:\n",
    "        word_count[word] = 1\n",
    "\n",
    "for word, count in word_count.items():\n",
    "    print(word, \":\", count)\n",
    "\n",
    "file.close()\n"
   ]
  },
  {
   "cell_type": "code",
   "execution_count": null,
   "id": "483225f7-428d-4423-93ad-eff27ecef356",
   "metadata": {},
   "outputs": [],
   "source": [
    "#81)write a python program to write a list to a file\n",
    "#ans.\n",
    "list = [\"apple\", \"banana\", \"cherry\", \"mango\"]\n",
    "\n",
    "with open(\"myfile.txt\", \"w\") as file:\n",
    "    for item in list:\n",
    "        file.write(item + \"\\n\")"
   ]
  },
  {
   "cell_type": "code",
   "execution_count": 34,
   "id": "e6dacdb6-e48a-4224-acd4-f8978386b148",
   "metadata": {},
   "outputs": [
    {
     "name": "stdout",
     "output_type": "stream",
     "text": [
      "apple\n",
      "banana\n",
      "cherry\n",
      "mango\n",
      "\n"
     ]
    }
   ],
   "source": [
    "#82)write a python program to copy the contents of a file to another file.\n",
    "#ans.\n",
    "with open(\"myfile.txt\",\"r\")as file:\n",
    "    content = file.read()\n",
    "    print(content)\n",
    "with open(\"newfile.txt\",\"w\")as file:\n",
    "    file.write(content)"
   ]
  },
  {
   "cell_type": "code",
   "execution_count": null,
   "id": "2027ab0e-428f-4731-8cfa-f71d94ea433e",
   "metadata": {},
   "outputs": [],
   "source": [
    "83)Explain Exception handing?what is Error in python? \n",
    "ans.exception handing meanse something wrong in the program code, program will not break.handle the problem easyily.error in python\n",
    "is something wrong in code than code is stop the program from running."
   ]
  },
  {
   "cell_type": "code",
   "execution_count": null,
   "id": "795b982e-75a6-4a0b-8810-09199aa89cca",
   "metadata": {},
   "outputs": [],
   "source": [
    "84)How many except statements can a try_except block have? Name some built_in exception classes.\n",
    "ans. except statements in try except block multiple except statements to handle different types of error,name some built in function\n",
    "zeroDivisionError,valueError,TypeError,filenotFoundError in exception classes."
   ]
  },
  {
   "cell_type": "code",
   "execution_count": null,
   "id": "50b7a1e7-d127-4e3b-a925-ad8c5579f74e",
   "metadata": {},
   "outputs": [],
   "source": [
    "85)when will the else part of try_except_else be executed?\n",
    "ans. The else part of try_except_else in runs only if no error happens in the try block.if there is an error,else is skipped."
   ]
  },
  {
   "cell_type": "code",
   "execution_count": null,
   "id": "4c12f97b-1ef8-4f15-8fca-7aaa508adc46",
   "metadata": {},
   "outputs": [],
   "source": [
    "86)can one block of except statements handle multiple exception?\n",
    "ans.one block of except statements can handle multiple exceptions by writing in tuple."
   ]
  },
  {
   "cell_type": "code",
   "execution_count": null,
   "id": "603817e7-3cc4-4ff0-9232-1e59bce951b2",
   "metadata": {},
   "outputs": [],
   "source": [
    "87)when is the finally block executed?\n",
    "ans.The finally block excecuted runs after the try and except blocks,no matter what happens in the except blocks."
   ]
  },
  {
   "cell_type": "code",
   "execution_count": null,
   "id": "a1872fe3-6fd6-4290-9d4b-a50e8fc44401",
   "metadata": {},
   "outputs": [],
   "source": [
    "88)what happend when,,l\"==l is executed?\n",
    "ans.when,,l\"==l is compare two string and returns True becuase both are exactly same."
   ]
  },
  {
   "cell_type": "code",
   "execution_count": 35,
   "id": "4223daf1-ca01-45a5-a9e4-479d0a26392f",
   "metadata": {},
   "outputs": [
    {
     "name": "stdin",
     "output_type": "stream",
     "text": [
      "Enter the number 7\n"
     ]
    },
    {
     "name": "stdout",
     "output_type": "stream",
     "text": [
      "1.0\n",
      "code completed\n"
     ]
    }
   ],
   "source": [
    "#89)How do you handle exceptions with Try/Except/Finally in python?\n",
    "#Explain with coding snippets\n",
    "try:\n",
    "    num = int(input(\"Enter the number\"))\n",
    "    result = 7/num\n",
    "    print(result)\n",
    "except zerodivisionError:\n",
    "    print(\"you can't divide by zero\")\n",
    "except valueError:\n",
    "    print(\"invalid input,Enter the valid number\")\n",
    "finally:\n",
    "    print(\"code completed\")\n"
   ]
  },
  {
   "cell_type": "code",
   "execution_count": 29,
   "id": "23589cd6-4f36-4316-b81b-38ea8a75bc4b",
   "metadata": {},
   "outputs": [
    {
     "name": "stdin",
     "output_type": "stream",
     "text": [
      "Enter an odd number:  44\n"
     ]
    },
    {
     "name": "stdout",
     "output_type": "stream",
     "text": [
      "Error: This is not an odd number!\n"
     ]
    }
   ],
   "source": [
    "#90)write python program that user to enter only odd number,else will raise an exception.\n",
    "#ans.\n",
    "try:\n",
    "    num = int(input(\"Enter an odd number: \"))\n",
    "    if num % 2 == 0:\n",
    "        raise ValueError(\"This is not an odd number!\")\n",
    "    print(\"You entered an odd number:\", num)\n",
    "except ValueError as e:\n",
    "    print(\"Error:\", e)\n"
   ]
  }
 ],
 "metadata": {
  "kernelspec": {
   "display_name": "Python 3 (ipykernel)",
   "language": "python",
   "name": "python3"
  },
  "language_info": {
   "codemirror_mode": {
    "name": "ipython",
    "version": 3
   },
   "file_extension": ".py",
   "mimetype": "text/x-python",
   "name": "python",
   "nbconvert_exporter": "python",
   "pygments_lexer": "ipython3",
   "version": "3.12.7"
  }
 },
 "nbformat": 4,
 "nbformat_minor": 5
}
